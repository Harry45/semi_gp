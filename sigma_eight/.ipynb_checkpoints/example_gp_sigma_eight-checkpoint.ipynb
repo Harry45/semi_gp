{
 "cells": [
  {
   "cell_type": "code",
   "execution_count": 9,
   "metadata": {},
   "outputs": [],
   "source": [
    "import pandas as pd \n",
    "import numpy as np \n",
    "import dill\n",
    "\n",
    "# our script\n",
    "import gp as gp"
   ]
  },
  {
   "cell_type": "markdown",
   "metadata": {},
   "source": [
    "### Setup\n",
    "The table consist of the following input cosmological parameters:\n",
    "\n",
    "$$\n",
    "\\left[\\Omega_{\\textrm{cdm}}h^{2},\\,\\Omega_{\\textrm{b}}h^{2},\\,\\textrm{ln}\\left(10^{10}A_{s}\\right),\\,n_{s},\\,h,\\,\\Sigma m_{\\nu}\\right]\n",
    "$$"
   ]
  },
  {
   "cell_type": "code",
   "execution_count": 7,
   "metadata": {},
   "outputs": [],
   "source": [
    "sigma       = [-40.0]\n",
    "train       = True\n",
    "Nrestart    = 2\n",
    "Ndim        = 6\n",
    "bounds      = np.repeat(np.array([[-1.5,6]]), Ndim+1, axis = 0);bounds[0] = np.array([-1, 1])\n",
    "fileName    = 'gps/gp_sigma'\n",
    "table       = np.array(pd.read_csv('training_points/sigma_eight_1000.csv'))[:,1:]"
   ]
  },
  {
   "cell_type": "markdown",
   "metadata": {},
   "source": [
    "### Train GP "
   ]
  },
  {
   "cell_type": "code",
   "execution_count": 3,
   "metadata": {},
   "outputs": [
    {
     "name": "stdout",
     "output_type": "stream",
     "text": [
      "Performing Optimization step 1\n",
      "Performing Optimization step 2\n"
     ]
    }
   ],
   "source": [
    "sigma_gp = gp.GP(table, sigma=sigma, train = train, nrestart = Nrestart)\n",
    "sigma_gp.transform()\n",
    "sigma_gp.fit(method = 'L-BFGS-B', bounds = bounds, options = {'ftol':1E-12, 'maxiter':500})"
   ]
  },
  {
   "cell_type": "markdown",
   "metadata": {},
   "source": [
    "### Save GP to File"
   ]
  },
  {
   "cell_type": "code",
   "execution_count": 10,
   "metadata": {},
   "outputs": [],
   "source": [
    "with open(fileName, 'wb') as f:\n",
    "\tdill.dump(sigma_gp, f)"
   ]
  },
  {
   "cell_type": "markdown",
   "metadata": {},
   "source": [
    "### Test Prediction"
   ]
  },
  {
   "cell_type": "code",
   "execution_count": 11,
   "metadata": {},
   "outputs": [],
   "source": [
    "testPoint = np.array([0.15, 0.022, 2.47, 1.13, 0.75, 0.5])"
   ]
  },
  {
   "cell_type": "code",
   "execution_count": 12,
   "metadata": {},
   "outputs": [
    {
     "data": {
      "text/plain": [
       "(array([0.7049]), array([3.7442e-09]))"
      ]
     },
     "execution_count": 12,
     "metadata": {},
     "output_type": "execute_result"
    }
   ],
   "source": [
    "sigma_gp.prediction(testPoint, returnvar = True)"
   ]
  }
 ],
 "metadata": {
  "kernelspec": {
   "display_name": "Python 3",
   "language": "python",
   "name": "python3"
  },
  "language_info": {
   "codemirror_mode": {
    "name": "ipython",
    "version": 3
   },
   "file_extension": ".py",
   "mimetype": "text/x-python",
   "name": "python",
   "nbconvert_exporter": "python",
   "pygments_lexer": "ipython3",
   "version": "3.7.6"
  }
 },
 "nbformat": 4,
 "nbformat_minor": 2
}
