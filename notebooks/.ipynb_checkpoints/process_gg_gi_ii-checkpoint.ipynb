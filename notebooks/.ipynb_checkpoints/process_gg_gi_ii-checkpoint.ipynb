{
 "cells": [
  {
   "cell_type": "code",
   "execution_count": 54,
   "metadata": {},
   "outputs": [],
   "source": [
    "import numpy as np\n",
    "import pandas as pd\n",
    "np.set_printoptions(precision=3,suppress=True)"
   ]
  },
  {
   "cell_type": "markdown",
   "metadata": {},
   "source": [
    "### Load Simulations"
   ]
  },
  {
   "cell_type": "code",
   "execution_count": 11,
   "metadata": {},
   "outputs": [],
   "source": [
    "simulations = np.load('../simulations/simulations.npz', allow_pickle=True)['arr_0']"
   ]
  },
  {
   "cell_type": "markdown",
   "metadata": {},
   "source": [
    "### GG, GI, II Compressed Training Set"
   ]
  },
  {
   "cell_type": "code",
   "execution_count": 12,
   "metadata": {},
   "outputs": [],
   "source": [
    "def extract(lens = 'gg', folder_name = '../simulations'):\n",
    "    \n",
    "    rec = [[] for i in range(12)]\n",
    "    n_train = len(simulations)\n",
    "    for i in range(n_train):\n",
    "        rec[0].append(simulations[i]['par'])\n",
    "        for j in range(11):\n",
    "            rec[j+1].append(simulations[i][lens][:,j])\n",
    "            \n",
    "    rec_df = []\n",
    "    df1 = pd.DataFrame(rec[0])\n",
    "    for i in range(11):    \n",
    "        df2 = pd.DataFrame(rec[i+1])\n",
    "        df_final = pd.concat([df1, df2], axis = 1)\n",
    "        df_final.columns = range(df_final.shape[1])\n",
    "        rec_df.append(df_final)\n",
    "        np.savez_compressed(folder_name + '/'+lens+'_'+str(i)+'.npz', df_final)\n",
    "    \n",
    "    return rec_df"
   ]
  },
  {
   "cell_type": "code",
   "execution_count": 13,
   "metadata": {},
   "outputs": [],
   "source": [
    "gg = extract(lens = 'gg')\n",
    "gi = extract(lens = 'gi')\n",
    "ii = extract(lens = 'ii')"
   ]
  },
  {
   "cell_type": "markdown",
   "metadata": {},
   "source": [
    "### Testing Covariance"
   ]
  },
  {
   "cell_type": "code",
   "execution_count": 80,
   "metadata": {},
   "outputs": [],
   "source": [
    "def compute_covariance(df):\n",
    "    samples = np.array(df.iloc[:,7:])\n",
    "    return np.cov(samples)"
   ]
  },
  {
   "cell_type": "markdown",
   "metadata": {},
   "source": [
    "#### Example"
   ]
  },
  {
   "cell_type": "code",
   "execution_count": 91,
   "metadata": {},
   "outputs": [
    {
     "data": {
      "text/plain": [
       "array([[ 0.034, -0.029, -0.01 ,  0.001, -0.007,  0.016, -0.001,  0.   ,\n",
       "         0.   , -0.003,  0.007,  0.   ,  0.008, -0.   ,  0.005,  0.   ,\n",
       "         0.   , -0.   ,  0.001, -0.001],\n",
       "       [-0.029,  1.716,  0.009,  0.003,  0.022, -0.072, -0.011, -0.   ,\n",
       "         0.002, -0.007,  0.072, -0.002, -0.038,  0.003,  0.06 ,  0.   ,\n",
       "         0.009, -0.001, -0.009, -0.006],\n",
       "       [-0.01 ,  0.009,  0.154,  0.001,  0.133,  0.015, -0.01 ,  0.002,\n",
       "         0.002, -0.006, -0.001, -0.   ,  0.016,  0.   ,  0.001,  0.   ,\n",
       "        -0.   , -0.   ,  0.001,  0.002],\n",
       "       [ 0.001,  0.003,  0.001,  0.   ,  0.   ,  0.   , -0.   ,  0.   ,\n",
       "         0.   , -0.   ,  0.   , -0.   ,  0.   ,  0.   ,  0.   ,  0.   ,\n",
       "         0.   , -0.   ,  0.   ,  0.   ],\n",
       "       [-0.007,  0.022,  0.133,  0.   ,  0.26 ,  0.03 , -0.008,  0.002,\n",
       "         0.002, -0.006, -0.016,  0.   ,  0.017,  0.   ,  0.004,  0.   ,\n",
       "         0.004, -0.   ,  0.004,  0.   ],\n",
       "       [ 0.016, -0.072,  0.015,  0.   ,  0.03 ,  0.034,  0.002,  0.   ,\n",
       "         0.   , -0.002,  0.005,  0.   ,  0.004,  0.   ,  0.004,  0.   ,\n",
       "        -0.   ,  0.   ,  0.001, -0.   ],\n",
       "       [-0.001, -0.011, -0.01 , -0.   , -0.008,  0.002,  0.002, -0.   ,\n",
       "        -0.   ,  0.001,  0.   ,  0.   , -0.003,  0.   , -0.001,  0.   ,\n",
       "        -0.   ,  0.   , -0.   , -0.   ],\n",
       "       [ 0.   , -0.   ,  0.002,  0.   ,  0.002,  0.   , -0.   ,  0.   ,\n",
       "         0.   , -0.   , -0.   ,  0.   ,  0.   , -0.   , -0.   , -0.   ,\n",
       "         0.   , -0.   ,  0.   , -0.   ],\n",
       "       [ 0.   ,  0.002,  0.002,  0.   ,  0.002,  0.   , -0.   ,  0.   ,\n",
       "         0.   , -0.   ,  0.   , -0.   ,  0.   ,  0.   ,  0.   ,  0.   ,\n",
       "        -0.   , -0.   ,  0.   , -0.   ],\n",
       "       [-0.003, -0.007, -0.006, -0.   , -0.006, -0.002,  0.001, -0.   ,\n",
       "        -0.   ,  0.001, -0.001, -0.   , -0.002, -0.   , -0.002,  0.   ,\n",
       "        -0.   ,  0.   , -0.   , -0.   ],\n",
       "       [ 0.007,  0.072, -0.001,  0.   , -0.016,  0.005,  0.   , -0.   ,\n",
       "         0.   , -0.001,  0.015, -0.   , -0.003, -0.   ,  0.008,  0.   ,\n",
       "         0.001, -0.   , -0.001, -0.   ],\n",
       "       [ 0.   , -0.002, -0.   , -0.   ,  0.   ,  0.   ,  0.   ,  0.   ,\n",
       "        -0.   , -0.   , -0.   ,  0.   ,  0.   ,  0.   , -0.   , -0.   ,\n",
       "         0.   , -0.   ,  0.   , -0.   ],\n",
       "       [ 0.008, -0.038,  0.016,  0.   ,  0.017,  0.004, -0.003,  0.   ,\n",
       "         0.   , -0.002, -0.003,  0.   ,  0.007,  0.   , -0.   ,  0.   ,\n",
       "         0.   , -0.   ,  0.001,  0.   ],\n",
       "       [-0.   ,  0.003,  0.   ,  0.   ,  0.   ,  0.   ,  0.   , -0.   ,\n",
       "         0.   , -0.   , -0.   ,  0.   ,  0.   ,  0.   , -0.   ,  0.   ,\n",
       "        -0.   , -0.   ,  0.   , -0.   ],\n",
       "       [ 0.005,  0.06 ,  0.001,  0.   ,  0.004,  0.004, -0.001, -0.   ,\n",
       "         0.   , -0.002,  0.008, -0.   , -0.   , -0.   ,  0.006,  0.   ,\n",
       "         0.001, -0.   , -0.   ,  0.   ],\n",
       "       [ 0.   ,  0.   ,  0.   ,  0.   ,  0.   ,  0.   ,  0.   , -0.   ,\n",
       "         0.   ,  0.   ,  0.   , -0.   ,  0.   ,  0.   ,  0.   ,  0.   ,\n",
       "        -0.   ,  0.   , -0.   , -0.   ],\n",
       "       [ 0.   ,  0.009, -0.   ,  0.   ,  0.004, -0.   , -0.   ,  0.   ,\n",
       "        -0.   , -0.   ,  0.001,  0.   ,  0.   , -0.   ,  0.001, -0.   ,\n",
       "         0.001,  0.   ,  0.   ,  0.   ],\n",
       "       [-0.   , -0.001, -0.   , -0.   , -0.   ,  0.   ,  0.   , -0.   ,\n",
       "        -0.   ,  0.   , -0.   , -0.   , -0.   , -0.   , -0.   ,  0.   ,\n",
       "         0.   ,  0.   , -0.   , -0.   ],\n",
       "       [ 0.001, -0.009,  0.001,  0.   ,  0.004,  0.001, -0.   ,  0.   ,\n",
       "         0.   , -0.   , -0.001,  0.   ,  0.001,  0.   , -0.   , -0.   ,\n",
       "         0.   , -0.   ,  0.   , -0.   ],\n",
       "       [-0.001, -0.006,  0.002,  0.   ,  0.   , -0.   , -0.   , -0.   ,\n",
       "        -0.   , -0.   , -0.   , -0.   ,  0.   , -0.   ,  0.   , -0.   ,\n",
       "         0.   , -0.   , -0.   ,  0.   ]])"
      ]
     },
     "execution_count": 91,
     "metadata": {},
     "output_type": "execute_result"
    }
   ],
   "source": [
    "compute_covariance(gg[0])"
   ]
  },
  {
   "cell_type": "code",
   "execution_count": null,
   "metadata": {},
   "outputs": [],
   "source": []
  }
 ],
 "metadata": {
  "kernelspec": {
   "display_name": "Python 3",
   "language": "python",
   "name": "python3"
  },
  "language_info": {
   "codemirror_mode": {
    "name": "ipython",
    "version": 3
   },
   "file_extension": ".py",
   "mimetype": "text/x-python",
   "name": "python",
   "nbconvert_exporter": "python",
   "pygments_lexer": "ipython3",
   "version": "3.7.6"
  }
 },
 "nbformat": 4,
 "nbformat_minor": 4
}
