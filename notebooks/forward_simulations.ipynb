{
 "cells": [
  {
   "cell_type": "code",
   "execution_count": 1,
   "metadata": {},
   "outputs": [],
   "source": [
    "import numpy as np \n",
    "import pandas as pd\n",
    "import sys\n",
    "sys.path.append('../')\n",
    "import priors as pri\n",
    "from collections import OrderedDict\n",
    "from moped import MOPED"
   ]
  },
  {
   "cell_type": "markdown",
   "metadata": {},
   "source": [
    "### Set up prior"
   ]
  },
  {
   "cell_type": "code",
   "execution_count": 2,
   "metadata": {},
   "outputs": [],
   "source": [
    "prior = OrderedDict()\n",
    "prior['omega_cdm'] = [0.010, 0.390, 'uniform']\n",
    "prior['omega_b'] = [0.019, 0.007, 'uniform']\n",
    "prior['ln10^{10}A_s'] = [1.700, 3.300, 'uniform']\n",
    "prior['n_s'] = [0.700, 0.600, 'uniform']\n",
    "prior['h'] = [0.640, 0.180, 'uniform']\n",
    "prior['A_bary'] = [0.000, 2.00, 'uniform']\n",
    "prior['m_ncdm'] = [0.06, 0.94, 'uniform']\n",
    "\n",
    "allPrior = pri.distributions(prior)"
   ]
  },
  {
   "cell_type": "markdown",
   "metadata": {},
   "source": [
    "### Load LHS Samples (maximin)"
   ]
  },
  {
   "cell_type": "code",
   "execution_count": 3,
   "metadata": {},
   "outputs": [],
   "source": [
    "maximin = pd.read_csv('../lhs/maximin_1000_7D', index_col = 0)"
   ]
  },
  {
   "cell_type": "code",
   "execution_count": 4,
   "metadata": {},
   "outputs": [
    {
     "data": {
      "text/html": [
       "<div>\n",
       "<style scoped>\n",
       "    .dataframe tbody tr th:only-of-type {\n",
       "        vertical-align: middle;\n",
       "    }\n",
       "\n",
       "    .dataframe tbody tr th {\n",
       "        vertical-align: top;\n",
       "    }\n",
       "\n",
       "    .dataframe thead th {\n",
       "        text-align: right;\n",
       "    }\n",
       "</style>\n",
       "<table border=\"1\" class=\"dataframe\">\n",
       "  <thead>\n",
       "    <tr style=\"text-align: right;\">\n",
       "      <th></th>\n",
       "      <th>V1</th>\n",
       "      <th>V2</th>\n",
       "      <th>V3</th>\n",
       "      <th>V4</th>\n",
       "      <th>V5</th>\n",
       "      <th>V6</th>\n",
       "      <th>V7</th>\n",
       "    </tr>\n",
       "  </thead>\n",
       "  <tbody>\n",
       "    <tr>\n",
       "      <th>1</th>\n",
       "      <td>0.673750</td>\n",
       "      <td>0.765910</td>\n",
       "      <td>0.521149</td>\n",
       "      <td>0.445765</td>\n",
       "      <td>0.440706</td>\n",
       "      <td>0.732931</td>\n",
       "      <td>0.515613</td>\n",
       "    </tr>\n",
       "    <tr>\n",
       "      <th>2</th>\n",
       "      <td>0.696794</td>\n",
       "      <td>0.793462</td>\n",
       "      <td>0.812314</td>\n",
       "      <td>0.644097</td>\n",
       "      <td>0.687248</td>\n",
       "      <td>0.618310</td>\n",
       "      <td>0.702635</td>\n",
       "    </tr>\n",
       "    <tr>\n",
       "      <th>3</th>\n",
       "      <td>0.552635</td>\n",
       "      <td>0.209014</td>\n",
       "      <td>0.751737</td>\n",
       "      <td>0.330419</td>\n",
       "      <td>0.228441</td>\n",
       "      <td>0.345711</td>\n",
       "      <td>0.798521</td>\n",
       "    </tr>\n",
       "    <tr>\n",
       "      <th>4</th>\n",
       "      <td>0.395563</td>\n",
       "      <td>0.467298</td>\n",
       "      <td>0.256495</td>\n",
       "      <td>0.392043</td>\n",
       "      <td>0.449243</td>\n",
       "      <td>0.340403</td>\n",
       "      <td>0.634957</td>\n",
       "    </tr>\n",
       "    <tr>\n",
       "      <th>5</th>\n",
       "      <td>0.676393</td>\n",
       "      <td>0.698141</td>\n",
       "      <td>0.639111</td>\n",
       "      <td>0.413108</td>\n",
       "      <td>0.256949</td>\n",
       "      <td>0.229714</td>\n",
       "      <td>0.547093</td>\n",
       "    </tr>\n",
       "  </tbody>\n",
       "</table>\n",
       "</div>"
      ],
      "text/plain": [
       "         V1        V2        V3        V4        V5        V6        V7\n",
       "1  0.673750  0.765910  0.521149  0.445765  0.440706  0.732931  0.515613\n",
       "2  0.696794  0.793462  0.812314  0.644097  0.687248  0.618310  0.702635\n",
       "3  0.552635  0.209014  0.751737  0.330419  0.228441  0.345711  0.798521\n",
       "4  0.395563  0.467298  0.256495  0.392043  0.449243  0.340403  0.634957\n",
       "5  0.676393  0.698141  0.639111  0.413108  0.256949  0.229714  0.547093"
      ]
     },
     "execution_count": 4,
     "metadata": {},
     "output_type": "execute_result"
    }
   ],
   "source": [
    "maximin.head()"
   ]
  },
  {
   "cell_type": "code",
   "execution_count": 5,
   "metadata": {},
   "outputs": [],
   "source": [
    "def scaling(priors, dataframe):\n",
    "    n_train = dataframe.shape[0]\n",
    "    n_dim = dataframe.shape[1]\n",
    "    rec = []\n",
    "    for k in range(n_train):\n",
    "        rec.append([allPrior[i].ppf(maximin.iloc[k, i]) for i in range(7)])   \n",
    "    return pd.DataFrame(rec)"
   ]
  },
  {
   "cell_type": "code",
   "execution_count": 15,
   "metadata": {},
   "outputs": [],
   "source": [
    "inputs_emu = np.array(scaling(allPrior, maximin))"
   ]
  },
  {
   "cell_type": "markdown",
   "metadata": {},
   "source": [
    "### Run Simulator"
   ]
  },
  {
   "cell_type": "code",
   "execution_count": 17,
   "metadata": {},
   "outputs": [],
   "source": [
    "moped = MOPED(eps=1E-4, settings='../settings')\n",
    "B, y = moped.load_vectors('../moped')"
   ]
  },
  {
   "cell_type": "code",
   "execution_count": 19,
   "metadata": {},
   "outputs": [],
   "source": [
    "sims = moped.simulations(inputs_emu[0:20], nsim = 10, folder_name = '../simulations')"
   ]
  },
  {
   "cell_type": "code",
   "execution_count": null,
   "metadata": {},
   "outputs": [],
   "source": []
  }
 ],
 "metadata": {
  "kernelspec": {
   "display_name": "Python 3",
   "language": "python",
   "name": "python3"
  },
  "language_info": {
   "codemirror_mode": {
    "name": "ipython",
    "version": 3
   },
   "file_extension": ".py",
   "mimetype": "text/x-python",
   "name": "python",
   "nbconvert_exporter": "python",
   "pygments_lexer": "ipython3",
   "version": "3.7.6"
  }
 },
 "nbformat": 4,
 "nbformat_minor": 4
}
