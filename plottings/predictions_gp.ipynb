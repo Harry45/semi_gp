{
 "cells": [
  {
   "cell_type": "code",
   "execution_count": 160,
   "metadata": {},
   "outputs": [],
   "source": [
    "from genDistribution import genDist\n",
    "import numpy as np \n",
    "import pandas as pd \n",
    "from collections import OrderedDict\n",
    "import dill\n",
    "from mylike_moped import kids450\n",
    "import matplotlib.pylab as plt\n",
    "import scipy.stats as ss\n",
    "\n",
    "plt.rc('text', usetex=True)\n",
    "plt.rc('font',**{'family':'sans-serif','serif':['Palatino']})\n",
    "figSize  = (12, 8)\n",
    "fontSize = 20"
   ]
  },
  {
   "cell_type": "code",
   "execution_count": 30,
   "metadata": {},
   "outputs": [],
   "source": [
    "prior                 = OrderedDict()\n",
    "prior['omega_cdm']    = [0.010, 0.390, 'uniform']\n",
    "prior['omega_b']      = [0.019, 0.007, 'uniform']\n",
    "prior['ln10^{10}A_s'] = [1.700, 3.300, 'uniform']\n",
    "prior['n_s']          = [0.700, 0.600, 'uniform']\n",
    "prior['h']            = [0.640, 0.180, 'uniform']\n",
    "prior['A_bary']       = [0.000, 2.00, 'uniform']\n",
    "\n",
    "prior['m_ncdm'] = [0.06, 0.94, 'uniform']\n",
    "prior['A_IA']  = [-6.00, 12.00, 'uniform']"
   ]
  },
  {
   "cell_type": "code",
   "execution_count": 31,
   "metadata": {},
   "outputs": [],
   "source": [
    "pdfs = genDist(prior)"
   ]
  },
  {
   "cell_type": "markdown",
   "metadata": {},
   "source": [
    "# Generate a Test Point"
   ]
  },
  {
   "cell_type": "code",
   "execution_count": 32,
   "metadata": {},
   "outputs": [],
   "source": [
    "def testpoint(Nsample = 1):\n",
    "    rec = []\n",
    "    for i in range(Nsample):\n",
    "        rec.append([pdfs[j].rvs() for j in range(8)])\n",
    "    return np.array(rec)"
   ]
  },
  {
   "cell_type": "markdown",
   "metadata": {},
   "source": [
    "# Load GPs"
   ]
  },
  {
   "cell_type": "code",
   "execution_count": 25,
   "metadata": {},
   "outputs": [],
   "source": [
    "gps = []\n",
    "for i in range(11):\n",
    "    with open('../semi-GPs/gp_1000/gp_'+str(i)+'.pkl', 'rb') as g:\n",
    "        gps.append(dill.load(g))"
   ]
  },
  {
   "cell_type": "markdown",
   "metadata": {},
   "source": [
    "# Predictions "
   ]
  },
  {
   "cell_type": "code",
   "execution_count": 51,
   "metadata": {},
   "outputs": [
    {
     "name": "stdout",
     "output_type": "stream",
     "text": [
      "Integrations performed at resolution of histogram!\n"
     ]
    }
   ],
   "source": [
    "directory = '/home/harry/Desktop/kids-paper-2/'\n",
    "kids = kids450(directory = directory, file_settings = 'scripts/settingsMoped', order = 'first', gpVar = True, includeGP = True, approximate = True)\n",
    "kids.priors()\n",
    "kids.loadMopedVectors(fileName = '2.txt')"
   ]
  },
  {
   "cell_type": "code",
   "execution_count": 107,
   "metadata": {},
   "outputs": [],
   "source": [
    "def allPredictions(n):\n",
    "    allRecords = []\n",
    "    for i in range(n):\n",
    "        records = np.zeros((11, 3))\n",
    "        # testPoint for the emulator \n",
    "        testPoint      = testpoint(Nsample=1).flatten()\n",
    "        \n",
    "        #  KiDS-450 takes 11 inputs \n",
    "        testPoint_kids = np.concatenate([testPoint[0:6], np.zeros(3), [testPoint[-1]], [testPoint[-2]]], axis = 0)\n",
    "        mopedCoeffs    = kids.mopedCoeff(testPoint_kids)\n",
    "        records[:,0]   = mopedCoeffs\n",
    "        \n",
    "        for i in range(11):\n",
    "            a, b = gps[i].prediction(testPoint, returnVar = True)\n",
    "            records[i, 1] = a.flatten()\n",
    "            records[i, 2] = np.sqrt(b.flatten())\n",
    "            \n",
    "        allRecords.append(records)\n",
    "    \n",
    "    return allRecords        "
   ]
  },
  {
   "cell_type": "code",
   "execution_count": 170,
   "metadata": {},
   "outputs": [],
   "source": [
    "allPred = allPredictions(500)"
   ]
  },
  {
   "cell_type": "code",
   "execution_count": 197,
   "metadata": {},
   "outputs": [],
   "source": [
    "# np.savez_compressed(directory + 'Data/allPreditions.npz', allPred)"
   ]
  },
  {
   "cell_type": "code",
   "execution_count": null,
   "metadata": {},
   "outputs": [],
   "source": []
  }
 ],
 "metadata": {
  "kernelspec": {
   "display_name": "Python 3",
   "language": "python",
   "name": "python3"
  },
  "language_info": {
   "codemirror_mode": {
    "name": "ipython",
    "version": 3
   },
   "file_extension": ".py",
   "mimetype": "text/x-python",
   "name": "python",
   "nbconvert_exporter": "python",
   "pygments_lexer": "ipython3",
   "version": "3.6.5"
  }
 },
 "nbformat": 4,
 "nbformat_minor": 2
}
