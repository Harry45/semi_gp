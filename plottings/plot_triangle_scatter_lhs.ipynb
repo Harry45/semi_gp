{
 "cells": [
  {
   "cell_type": "code",
   "execution_count": 1,
   "metadata": {},
   "outputs": [],
   "source": [
    "import seaborn as sns \n",
    "import pandas as pd \n",
    "import matplotlib.pylab as plt \n",
    "import numpy as np\n",
    "\n",
    "plt.rc('text', usetex=True)\n",
    "plt.rc('font',**{'family':'sans-serif','serif':['Palatino']})\n",
    "figSize  = (12, 8)\n",
    "fontSize = 15"
   ]
  },
  {
   "cell_type": "code",
   "execution_count": 2,
   "metadata": {},
   "outputs": [],
   "source": [
    "data = pd.read_csv('lhs_maximin_5_8D.csv', index_col=0)\n",
    "N = 3\n",
    "data = data.iloc[:,0:N]"
   ]
  },
  {
   "cell_type": "code",
   "execution_count": 3,
   "metadata": {},
   "outputs": [],
   "source": [
    "data.columns = [r'$\\theta_{'+str(i)+'}$' for i in range(N)]"
   ]
  },
  {
   "cell_type": "code",
   "execution_count": 4,
   "metadata": {},
   "outputs": [],
   "source": [
    "min_max_prior = np.array([[0.010, 0.400],\n",
    "\t[0.019, 0.026],\n",
    "\t[1.700, 5.000]])"
   ]
  },
  {
   "cell_type": "code",
   "execution_count": 5,
   "metadata": {},
   "outputs": [],
   "source": [
    "scaled = min_max_prior[:,0] + (min_max_prior[:,1] - min_max_prior[:,0])*data"
   ]
  },
  {
   "cell_type": "code",
   "execution_count": 6,
   "metadata": {},
   "outputs": [
    {
     "data": {
      "text/plain": [
       "array([0.01  , 0.1075, 0.205 , 0.3025, 0.4   ])"
      ]
     },
     "execution_count": 6,
     "metadata": {},
     "output_type": "execute_result"
    }
   ],
   "source": [
    "np.linspace(0.01, 0.40, 5)"
   ]
  },
  {
   "cell_type": "code",
   "execution_count": 7,
   "metadata": {},
   "outputs": [
    {
     "data": {
      "image/png": "[encoded data removed]",
      "text/plain": [
       "<Figure size 648x648 with 9 Axes>"
      ]
     },
     "metadata": {
      "needs_background": "light"
     },
     "output_type": "display_data"
    }
   ],
   "source": [
    "g = sns.pairplot(scaled, diag_kind=None, size=3)\n",
    "for i, j in zip(*np.triu_indices_from(g.axes, 1)):\n",
    "    g.axes[i, j].set_visible(False) \n",
    "g.axes[0,0].set_yticks(np.linspace(0.01, 0.40, 6))\n",
    "g.axes[0,0].set_xticks(np.linspace(0.01, 0.40, 6))\n",
    "g.axes[0,0].set_xlim(0.01, 0.401)\n",
    "g.axes[0,0].set_ylim(0.01, 0.401)\n",
    "g.axes[0,0].grid()\n",
    "g.axes[0,0].set_ylabel(r'$\\Omega_{\\textrm{cdm}}h^{2}$', fontsize = fontSize)\n",
    "g.axes[0,0].tick_params('y', labelsize = fontSize)\n",
    "\n",
    "g.axes[1,0].set_yticks(np.linspace(0.019, 0.026, 6))\n",
    "g.axes[1,0].set_xticks(np.linspace(0.01, 0.40, 6))\n",
    "g.axes[1,0].set_xlim(0.01, 0.401)\n",
    "g.axes[1,0].set_ylim(0.019, 0.0261)\n",
    "g.axes[1,0].grid()\n",
    "g.axes[1,0].set_ylabel(r'$\\Omega_{\\textrm{b}}h^{2}$', fontsize = fontSize)\n",
    "g.axes[1,0].tick_params('y', labelsize = fontSize)\n",
    "\n",
    "g.axes[1,1].set_yticks(np.linspace(0.019, 0.026, 6))\n",
    "g.axes[1,1].set_xticks(np.linspace(0.019, 0.026, 6))\n",
    "g.axes[1,1].set_xlim(0.019, 0.0261)\n",
    "g.axes[1,1].set_ylim(0.019, 0.0261)\n",
    "g.axes[1,1].grid()\n",
    "\n",
    "\n",
    "g.axes[2,0].set_yticks(np.linspace(1.7, 5, 6))\n",
    "g.axes[2,0].set_xticks(np.linspace(0.01, 0.40, 6))\n",
    "g.axes[2,0].set_xlim(0.01, 0.401)\n",
    "g.axes[2,0].set_ylim(1.7, 5.001)\n",
    "g.axes[2,0].grid()\n",
    "g.axes[2,0].set_ylabel(r'$\\textrm{ln}(10^{10})A_{\\textrm{s}}$', fontsize = fontSize)\n",
    "g.axes[2,0].set_xlabel(r'$\\Omega_{\\textrm{cdm}}h^{2}$', fontsize = fontSize)\n",
    "g.axes[2,0].tick_params('both', labelsize = fontSize)\n",
    "g.axes[2,0].xaxis.set_tick_params(rotation=45)\n",
    "\n",
    "g.axes[2,1].set_yticks(np.linspace(1.7, 5, 6))\n",
    "g.axes[2,1].set_xticks(np.linspace(0.019, 0.026, 6))\n",
    "g.axes[2,1].set_xlim(0.019, 0.0261)\n",
    "g.axes[2,1].tick_params('x', labelsize = fontSize)\n",
    "g.axes[2,1].grid()\n",
    "g.axes[2,1].set_xlabel(r'$\\Omega_{\\textrm{b}}h^{2}$', fontsize = fontSize)\n",
    "g.axes[2,1].xaxis.set_tick_params(rotation=45)\n",
    "\n",
    "g.axes[2,2].set_yticks(np.linspace(1.7, 5, 6))\n",
    "g.axes[2,2].set_xticks(np.linspace(1.7, 5, 6))\n",
    "g.axes[2,2].set_xlim(1.7, 5.01)\n",
    "g.axes[2,2].tick_params('x', labelsize = fontSize)\n",
    "g.axes[2,2].grid()\n",
    "g.axes[2,2].set_xlabel(r'$\\textrm{ln}(10^{10})A_{\\textrm{s}}$', fontsize = fontSize)\n",
    "g.axes[2,2].xaxis.set_tick_params(rotation=45)\n",
    "\n",
    "for i,j in zip(range(3), range(3)):\n",
    "    g.axes[i,j].set_visible(False) \n",
    "    \n",
    "plt.savefig('/Users/Harry/Desktop/lhs.pdf', bbox_inches='tight')\n",
    "plt.show()"
   ]
  },
  {
   "cell_type": "code",
   "execution_count": 8,
   "metadata": {},
   "outputs": [],
   "source": [
    "#for i, j in zip(*np.tril_indices_from(g.axes, 1)): \n",
    "\n",
    "#     #g.axes[i,j].set_yticks(np.arange(0.0, 1.2, 0.2))\n",
    "#     #g.axes[i,j].set_xlim(0.0, 1.02)\n",
    "#     #g.axes[i,j].set_ylim(0.0, 1.0)\n",
    "#    g.axes[i, j].grid()"
   ]
  }
 ],
 "metadata": {
  "kernelspec": {
   "display_name": "Python 3",
   "language": "python",
   "name": "python3"
  },
  "language_info": {
   "codemirror_mode": {
    "name": "ipython",
    "version": 3
   },
   "file_extension": ".py",
   "mimetype": "text/x-python",
   "name": "python",
   "nbconvert_exporter": "python",
   "pygments_lexer": "ipython3",
   "version": "3.7.4"
  }
 },
 "nbformat": 4,
 "nbformat_minor": 2
}
