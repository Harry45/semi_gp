{
 "cells": [
  {
   "cell_type": "code",
   "execution_count": 22,
   "metadata": {},
   "outputs": [],
   "source": [
    "import sys \n",
    "sys.path.append('../')\n",
    "\n",
    "import numpy as np \n",
    "import dill\n",
    "import pandas as pd \n",
    "\n",
    "import matplotlib.pylab as plt "
   ]
  },
  {
   "cell_type": "code",
   "execution_count": 11,
   "metadata": {},
   "outputs": [],
   "source": [
    "def extract_cost(Ntrain):\n",
    "    cost = []\n",
    "    for i in range(11):\n",
    "        with open('../semi-GPs/gp_'+str(Ntrain)+'/gp_'+str(i)+'.pkl', 'rb') as g:\n",
    "            gp = dill.load(g)\n",
    "            cost.append(np.min(gp.minChi2))\n",
    "    return np.array(cost)"
   ]
  },
  {
   "cell_type": "code",
   "execution_count": 12,
   "metadata": {},
   "outputs": [],
   "source": [
    "cost_1000 = extract_cost(Ntrain = 1000)     \n",
    "cost_1500 = extract_cost(Ntrain = 1500)    "
   ]
  },
  {
   "cell_type": "code",
   "execution_count": 29,
   "metadata": {},
   "outputs": [
    {
     "data": {
      "text/plain": [
       "array([3636.5029, 3098.666 , 3092.2699, 2164.8554, 2962.7348, 2314.0425,\n",
       "        880.1483, 2310.667 , 2761.7583, 2229.2424, 3157.0743])"
      ]
     },
     "execution_count": 29,
     "metadata": {},
     "output_type": "execute_result"
    }
   ],
   "source": [
    "cost_1000"
   ]
  },
  {
   "cell_type": "code",
   "execution_count": 30,
   "metadata": {},
   "outputs": [
    {
     "data": {
      "text/plain": [
       "array([5374.8539, 4575.6484, 4582.5194, 3041.5234, 4492.027 , 3376.0597,\n",
       "       1194.3935, 3558.9347, 3881.2721, 3188.134 , 4444.7064])"
      ]
     },
     "execution_count": 30,
     "metadata": {},
     "output_type": "execute_result"
    }
   ],
   "source": [
    "cost_1500"
   ]
  },
  {
   "cell_type": "code",
   "execution_count": 28,
   "metadata": {},
   "outputs": [
    {
     "data": {
      "image/png": "[encoded data removed]",
      "text/plain": [
       "<Figure size 576x576 with 1 Axes>"
      ]
     },
     "metadata": {},
     "output_type": "display_data"
    }
   ],
   "source": [
    "plt.figure(figsize = (8,8))\n",
    "plt.scatter(np.repeat(1000, 11), cost_1000)\n",
    "plt.scatter(np.repeat(1500, 11), cost_1500)\n",
    "plt.xscale('log')\n",
    "plt.yscale('log')\n",
    "plt.show()"
   ]
  },
  {
   "cell_type": "code",
   "execution_count": null,
   "metadata": {},
   "outputs": [],
   "source": []
  }
 ],
 "metadata": {
  "kernelspec": {
   "display_name": "Python 3",
   "language": "python",
   "name": "python3"
  },
  "language_info": {
   "codemirror_mode": {
    "name": "ipython",
    "version": 3
   },
   "file_extension": ".py",
   "mimetype": "text/x-python",
   "name": "python",
   "nbconvert_exporter": "python",
   "pygments_lexer": "ipython3",
   "version": "3.6.5"
  }
 },
 "nbformat": 4,
 "nbformat_minor": 2
}
