{
 "cells": [
  {
   "cell_type": "code",
   "execution_count": 2,
   "metadata": {},
   "outputs": [],
   "source": [
    "import pandas as pd \n",
    "import numpy as np \n",
    "from matplotlib.collections import PatchCollection\n",
    "from matplotlib.patches import Rectangle\n",
    "import matplotlib.pylab as plt \n",
    "from scipy.spatial.distance import cdist \n",
    "\n",
    "plt.rc('text', usetex=True)\n",
    "plt.rc('font',**{'family':'sans-serif','serif':['Palatino']})\n",
    "figSize  = (12, 8)\n",
    "fontSize = 20"
   ]
  },
  {
   "cell_type": "code",
   "execution_count": 126,
   "metadata": {},
   "outputs": [],
   "source": [
    "data = pd.read_csv('lhs.csv', index_col=0)\n",
    "data_maximin = pd.read_csv('lhs_maximin.csv', index_col=0) \n",
    "data_random  = pd.read_csv('lhs_random.csv', index_col=0) "
   ]
  },
  {
   "cell_type": "code",
   "execution_count": 127,
   "metadata": {},
   "outputs": [],
   "source": [
    "distance1 = cdist(data, data, metric='euclidean')\n",
    "minD1 = np.min(distance1[np.triu_indices(5, k = 1)])\n",
    "meanD1 = np.mean(distance1[np.triu_indices(5, k = 1)])"
   ]
  },
  {
   "cell_type": "code",
   "execution_count": 128,
   "metadata": {},
   "outputs": [],
   "source": [
    "distance2 = cdist(data_maximin, data_maximin, metric='euclidean')\n",
    "minD2 = np.min(distance2[np.triu_indices(5, k = 1)])\n",
    "meanD2 = np.mean(distance2[np.triu_indices(5, k = 1)])"
   ]
  },
  {
   "cell_type": "code",
   "execution_count": 129,
   "metadata": {},
   "outputs": [],
   "source": [
    "distance3 = cdist(data_random, data_random, metric='euclidean')\n",
    "minD3 = np.min(distance3[np.triu_indices(5, k = 1)])\n",
    "meanD3 = np.mean(distance3[np.triu_indices(5, k = 1)])"
   ]
  },
  {
   "cell_type": "code",
   "execution_count": 130,
   "metadata": {},
   "outputs": [
    {
     "name": "stdout",
     "output_type": "stream",
     "text": [
      "Minimum distance for optimumLHS is : 0.379\n",
      "Minimum distance for maximinLHS is : 0.363\n",
      "Minimum distance for randomLHS is  : 0.313\n"
     ]
    }
   ],
   "source": [
    "print('Minimum distance for optimumLHS is : {0:.3f}'.format(minD1))\n",
    "print('Minimum distance for maximinLHS is : {0:.3f}'.format(minD2))\n",
    "print('Minimum distance for randomLHS is  : {0:.3f}'.format(minD3))"
   ]
  },
  {
   "cell_type": "code",
   "execution_count": 131,
   "metadata": {},
   "outputs": [
    {
     "name": "stdout",
     "output_type": "stream",
     "text": [
      "Mean distance for optimumLHS is : 0.648\n",
      "Mean distance for maximinLHS is : 0.649\n",
      "Mean distance for randomLHS  is : 0.602\n"
     ]
    }
   ],
   "source": [
    "print('Mean distance for optimumLHS is : {0:.3f}'.format(meanD1))\n",
    "print('Mean distance for maximinLHS is : {0:.3f}'.format(meanD2))\n",
    "print('Mean distance for randomLHS  is : {0:.3f}'.format(meanD3))"
   ]
  },
  {
   "cell_type": "code",
   "execution_count": 19,
   "metadata": {},
   "outputs": [],
   "source": [
    "def make_error_boxes(ax, xdata, ydata, xerror=[0.1], yerror=[0.1], facecolor='r', edgecolor='None', alpha=0.2):\n",
    "    \n",
    "    # Create list for all the error patches\n",
    "    errorboxes = []\n",
    "\n",
    "    # Loop over data points; create box from errors at each point\n",
    "    for x, y, xe, ye in zip(xdata, ydata, xerror.T, yerror.T):\n",
    "        rect = Rectangle((x - xe[0], y - ye[0]), xe.sum(), ye.sum())\n",
    "        errorboxes.append(rect)\n",
    "\n",
    "    # Create patch collection with specified colour/alpha\n",
    "    pc = PatchCollection(errorboxes, facecolor=facecolor, alpha=alpha, edgecolor=edgecolor)\n",
    "\n",
    "    # Add collection to axes\n",
    "    ax.add_collection(pc)\n",
    "\n",
    "    return None"
   ]
  },
  {
   "cell_type": "code",
   "execution_count": 133,
   "metadata": {},
   "outputs": [],
   "source": [
    "# Manual \n",
    "x = [0.1, 0.3, 0.5, 0.7, 0.9]\n",
    "xerr = np.zeros((2,5)) + 0.1\n",
    "yerr = np.zeros((2,5)) + 0.1"
   ]
  },
  {
   "cell_type": "code",
   "execution_count": 145,
   "metadata": {},
   "outputs": [
    {
     "data": {
      "image/png": "[encoded data removed]",
      "text/plain": [
       "<Figure size 1440x432 with 3 Axes>"
      ]
     },
     "metadata": {
      "needs_background": "light"
     },
     "output_type": "display_data"
    }
   ],
   "source": [
    "fig, ax = plt.subplots(1, 3, figsize = (20,6))\n",
    "make_error_boxes(ax[0], x, [0.3, 0.9, 0.5, 0.1, 0.7], xerror = xerr, yerror=yerr, facecolor='r')\n",
    "ax[0].scatter(data.V1, data.V2, s = 100, c = 'r')\n",
    "ax[0].set_xlim(0,1)\n",
    "ax[0].set_ylim(0,1)\n",
    "ax[0].set_xlabel(r'$\\theta_{0}$', fontsize = fontSize)\n",
    "ax[0].set_ylabel(r'$\\theta_{1}$', fontsize = fontSize)\n",
    "ax[0].tick_params(axis='x', labelsize=fontSize)\n",
    "ax[0].tick_params(axis='y', labelsize=fontSize)\n",
    "ax[0].set_xticks(np.arange(0.0, 1.2, 0.2))\n",
    "ax[0].set_yticks(np.arange(0.0, 1.2, 0.2))\n",
    "ax[0].grid()\n",
    "ax[0].set_title('optimumLHS', fontsize=fontSize+5)\n",
    "ax[0].set(adjustable='box', aspect='equal')\n",
    "\n",
    "make_error_boxes(ax[1], x, [0.3, 0.9, 0.1, 0.7, 0.5], xerror = xerr, yerror=yerr, facecolor='b')\n",
    "ax[1].scatter(data_maximin.V1, data_maximin.V2, s = 100, c = 'b')\n",
    "ax[1].set_xlim(0,1)\n",
    "ax[1].set_ylim(0,1)\n",
    "ax[1].set_xlabel(r'$\\theta_{0}$', fontsize = fontSize)\n",
    "ax[1].set_ylabel(r'$\\theta_{1}$', fontsize = fontSize)\n",
    "ax[1].tick_params(axis='x', labelsize=fontSize)\n",
    "ax[1].tick_params(axis='y', labelsize=fontSize)\n",
    "ax[1].set_xticks(np.arange(0.0, 1.2, 0.2))\n",
    "ax[1].set_yticks(np.arange(0.0, 1.2, 0.2))\n",
    "ax[1].grid()\n",
    "ax[1].set_title('maximinLHS', fontsize=fontSize+5)\n",
    "ax[1].set(adjustable='box', aspect='equal')\n",
    "\n",
    "make_error_boxes(ax[2], x, [0.9, 0.1, 0.5, 0.3, 0.7], xerror = xerr, yerror=yerr, facecolor='g')\n",
    "ax[2].scatter(data_random.V1, data_random.V2, s = 100, c = 'g')\n",
    "ax[2].set_xlim(0,1)\n",
    "ax[2].set_ylim(0,1)\n",
    "ax[2].set_xlabel(r'$\\theta_{0}$', fontsize = fontSize)\n",
    "ax[2].set_ylabel(r'$\\theta_{1}$', fontsize = fontSize)\n",
    "ax[2].tick_params(axis='x', labelsize=fontSize)\n",
    "ax[2].tick_params(axis='y', labelsize=fontSize)\n",
    "ax[2].set_xticks(np.arange(0.0, 1.2, 0.2))\n",
    "ax[2].set_yticks(np.arange(0.0, 1.2, 0.2))\n",
    "ax[2].grid()\n",
    "ax[2].set_title('randomLHS', fontsize=fontSize+5)\n",
    "ax[2].set(adjustable='box', aspect='equal')\n",
    "# plt.savefig('illustrate_methods.pdf', bbox_inches='tight')\n",
    "plt.show()"
   ]
  },
  {
   "cell_type": "code",
   "execution_count": 87,
   "metadata": {},
   "outputs": [],
   "source": [
    "# fig, ax = plt.subplots(1, figsize = (8,8)) # plt.figure(figsize = (8,8))\n",
    "# make_error_boxes(ax, x, y, xerror = xerr, yerror=yerr, facecolor='r')\n",
    "# make_error_boxes(ax, x, [0.5, 0.7, 0.1, 0.9, 0.3], xerror = xerr, yerror=yerr, facecolor='b')\n",
    "# plt.scatter(data.V1, data.V2, s = 100, c = 'r', label = 'optimumLHS')\n",
    "# plt.scatter(data_maximin.V1, data_maximin.V2, s = 100, c = 'b', label = 'maximinLHS')\n",
    "# plt.xlabel(r'$\\theta_{0}$', fontsize = fontSize)\n",
    "# plt.ylabel(r'$\\theta_{1}$', fontsize = fontSize)\n",
    "# plt.tick_params(axis='x', labelsize=fontSize)\n",
    "# plt.tick_params(axis='y', labelsize=fontSize)\n",
    "# plt.yticks(np.arange(0.0, 1.1, 0.2))\n",
    "# plt.xticks(np.arange(0.0, 1.1, 0.2))\n",
    "# plt.xlim(0.0, 1.0)\n",
    "# plt.ylim(0.0, 1.0)\n",
    "# plt.grid()\n",
    "# plt.legend(bbox_to_anchor=(1.4, 1.0),prop={'size':15})\n",
    "# # plt.savefig('illustrate_2d.pdf', bbox_inches='tight')\n",
    "# plt.show()"
   ]
  },
  {
   "cell_type": "markdown",
   "metadata": {},
   "source": [
    "### Paper 1 Plot "
   ]
  },
  {
   "cell_type": "code",
   "execution_count": 3,
   "metadata": {},
   "outputs": [],
   "source": [
    "d = pd.read_csv('lhs_10_2.csv', index_col=0)"
   ]
  },
  {
   "cell_type": "code",
   "execution_count": 23,
   "metadata": {},
   "outputs": [],
   "source": [
    "# Manual \n",
    "x = np.arange(0.05, 1.0, 0.1)\n",
    "xerr = np.zeros((2,10)) + 0.05\n",
    "yerr = np.zeros((2,10)) + 0.05\n",
    "y = np.array([0.8, 0.2, 0.5, 0.6, 0.0, 0.7, 0.3, 0.9, 0.1, 0.4]) + 0.05"
   ]
  },
  {
   "cell_type": "code",
   "execution_count": 27,
   "metadata": {},
   "outputs": [
    {
     "data": {
      "image/png": "[encoded data removed]",
      "text/plain": [
       "<Figure size 576x576 with 1 Axes>"
      ]
     },
     "metadata": {
      "needs_background": "light"
     },
     "output_type": "display_data"
    }
   ],
   "source": [
    "fig, ax = plt.subplots(1, figsize = (8,8)) # plt.figure(figsize = (8,8))\n",
    "make_error_boxes(ax, x, y, xerror = xerr, yerror=yerr, facecolor='r')\n",
    "plt.scatter(d.V1, d.V2, s = 10, c = 'r')\n",
    "plt.xlabel(r'$\\theta_{0}$', fontsize = fontSize)\n",
    "plt.ylabel(r'$\\theta_{1}$', fontsize = fontSize)\n",
    "plt.tick_params(axis='x', labelsize=fontSize)\n",
    "plt.tick_params(axis='y', labelsize=fontSize)\n",
    "plt.yticks(np.arange(0.0, 1.1, 0.1))\n",
    "plt.xticks(np.arange(0.0, 1.1, 0.1))\n",
    "plt.xlim(0.0, 1.0)\n",
    "plt.ylim(0.0, 1.0)\n",
    "plt.grid()\n",
    "# plt.savefig('illustrate_2d.pdf', bbox_inches='tight')\n",
    "plt.show()"
   ]
  },
  {
   "cell_type": "code",
   "execution_count": null,
   "metadata": {},
   "outputs": [],
   "source": []
  }
 ],
 "metadata": {
  "kernelspec": {
   "display_name": "Python 3",
   "language": "python",
   "name": "python3"
  },
  "language_info": {
   "codemirror_mode": {
    "name": "ipython",
    "version": 3
   },
   "file_extension": ".py",
   "mimetype": "text/x-python",
   "name": "python",
   "nbconvert_exporter": "python",
   "pygments_lexer": "ipython3",
   "version": "3.7.4"
  }
 },
 "nbformat": 4,
 "nbformat_minor": 2
}
